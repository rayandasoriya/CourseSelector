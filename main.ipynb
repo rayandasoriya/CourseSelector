{
 "cells": [
  {
   "cell_type": "code",
   "execution_count": 1,
   "metadata": {},
   "outputs": [],
   "source": [
    "import pandas as pd\n",
    "from sklearn.model_selection import train_test_split\n",
    "from sklearn import ensemble\n",
    "from sklearn.metrics import mean_absolute_error\n",
    "from sklearn.externals import joblib\n",
    "df = pd.read_csv(\"course_taken.csv\")\n",
    "df1 = df.drop([71])\n",
    "X=df1[df1.columns[1:44]].values\n",
    "model = ensemble.GradientBoostingRegressor(n_estimators=600, learning_rate=0.1, max_depth=7, min_samples_leaf=3, max_features=0.1, loss='huber') \n",
    "course_to_value =[0,2,0,1,0,1,0,0,0,1,1,0,2,0,0,0,0,1,1,0,1,0,0,0,0,0,0,0,1,0,0,2,0,0,0,0,0,0,0,2,0,0,0]\n",
    "courses_to_value = [\n",
    "    course_to_value\n",
    "]"
   ]
  },
  {
   "cell_type": "code",
   "execution_count": 3,
   "metadata": {},
   "outputs": [
    {
     "name": "stdout",
     "output_type": "stream",
     "text": [
      "You should take course CSC_505 : 1.0627479870040704\n",
      "You should take course CSC_520 : 0.6356824190633501\n",
      "You should take course CSC_547 : 0.6247349196114721\n",
      "You should take course CSC_570 : 1.448166525903972\n",
      "You should take course CSC_573 : 1.6659815650020473\n",
      "You should take course CSC_574 : 1.218459971964697\n",
      "You should take course CSC_705 : 0.9217338934352584\n",
      "You should take course CSC_773 : 0.6415438729581083\n"
     ]
    }
   ],
   "source": [
    "for i in range(44, 102):\n",
    "    y = df1[df1.columns[i]].values\n",
    "    model.fit(X,y)\n",
    "    predicted_course_values = model.predict(courses_to_value)\n",
    "    predicted_value = predicted_course_values[0]\n",
    "    if(predicted_value>=0.6):\n",
    "        print(\"You should take course \" +df1.columns[i ] +\": \"+format(predicted_value)) \n"
   ]
  },
  {
   "cell_type": "code",
   "execution_count": null,
   "metadata": {},
   "outputs": [],
   "source": []
  }
 ],
 "metadata": {
  "kernelspec": {
   "display_name": "Python 3",
   "language": "python",
   "name": "python3"
  },
  "language_info": {
   "codemirror_mode": {
    "name": "ipython",
    "version": 3
   },
   "file_extension": ".py",
   "mimetype": "text/x-python",
   "name": "python",
   "nbconvert_exporter": "python",
   "pygments_lexer": "ipython3",
   "version": "3.7.2"
  }
 },
 "nbformat": 4,
 "nbformat_minor": 2
}
