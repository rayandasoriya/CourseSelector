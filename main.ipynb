{
 "cells": [
  {
   "cell_type": "code",
   "execution_count": 1,
   "metadata": {},
   "outputs": [
    {
     "name": "stderr",
     "output_type": "stream",
     "text": [
      "C:\\Users\\Javan\\Anaconda3\\lib\\site-packages\\ipykernel_launcher.py:8: FutureWarning: Method .as_matrix will be removed in a future version. Use .values instead.\n",
      "  \n"
     ]
    }
   ],
   "source": [
    "import pandas as pd\n",
    "from sklearn.model_selection import train_test_split\n",
    "from sklearn import ensemble\n",
    "from sklearn.metrics import mean_absolute_error\n",
    "from sklearn.externals import joblib\n",
    "df = pd.read_csv(\"course_taken.csv\")\n",
    "df1 = df.drop([71])\n",
    "X=df1[df1.columns[1:44]].as_matrix()\n",
    "model = ensemble.GradientBoostingRegressor(n_estimators=600, learning_rate=0.1, max_depth=7, min_samples_leaf=3, max_features=0.1, loss='huber') \n",
    "course_to_value =[0,2,0,1,0,1,0,0,0,1,1,0,2,0,0,0,0,1,1,0,1,0,0,0,0,0,0,0,1,0,0,2,0,0,0,0,0,0,0,2,0,0,0]\n",
    "courses_to_value = [\n",
    "    course_to_value\n",
    "]"
   ]
  },
  {
   "cell_type": "code",
   "execution_count": 2,
   "metadata": {},
   "outputs": [
    {
     "name": "stderr",
     "output_type": "stream",
     "text": [
      "C:\\Users\\Javan\\Anaconda3\\lib\\site-packages\\ipykernel_launcher.py:2: FutureWarning: Method .as_matrix will be removed in a future version. Use .values instead.\n",
      "  \n"
     ]
    },
    {
     "name": "stdout",
     "output_type": "stream",
     "text": [
      "You should take course CSC_505 : 1.0619525005673067\n",
      "You should take course CSC_547 : 1.0293830817810588\n",
      "You should take course CSC_570 : 1.273157541832644\n",
      "You should take course CSC_573 : 1.914030745036405\n",
      "You should take course CSC_574 : 1.1747426762278335\n",
      "You should take course CSC_705 : 1.0682899789730702\n",
      "You should take course CSC_773 : 0.7815626194742932\n"
     ]
    }
   ],
   "source": [
    "for i in range(44, 102):\n",
    "    y = df1[df1.columns[i]].as_matrix()\n",
    "    model.fit(X,y)\n",
    "    predicted_course_values = model.predict(courses_to_value)\n",
    "    predicted_value = predicted_course_values[0]\n",
    "    if(predicted_value>=0.7):\n",
    "        print(\"You should take course \" +df1.columns[i ] +\": \"+format(predicted_value)) \n"
   ]
  },
  {
   "cell_type": "code",
   "execution_count": null,
   "metadata": {},
   "outputs": [],
   "source": []
  }
 ],
 "metadata": {
  "kernelspec": {
   "display_name": "Python 3",
   "language": "python",
   "name": "python3"
  },
  "language_info": {
   "codemirror_mode": {
    "name": "ipython",
    "version": 3
   },
   "file_extension": ".py",
   "mimetype": "text/x-python",
   "name": "python",
   "nbconvert_exporter": "python",
   "pygments_lexer": "ipython3",
   "version": "3.6.5"
  }
 },
 "nbformat": 4,
 "nbformat_minor": 2
}
